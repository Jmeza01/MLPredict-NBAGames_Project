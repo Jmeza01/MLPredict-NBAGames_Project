{
 "cells": [
  {
   "cell_type": "code",
   "execution_count": 1,
   "id": "9ea165e8-c86a-44b1-9def-7381c2131c06",
   "metadata": {},
   "outputs": [],
   "source": [
    "#### WE BEGIN TO SCRAP DATA FROM STANDINGS, PLAYERS PLAYED, SCORES AND ETC."
   ]
  },
  {
   "cell_type": "code",
   "execution_count": 2,
   "id": "edfc340c-d21c-4b50-936a-fe8f86c1e189",
   "metadata": {},
   "outputs": [],
   "source": [
    "import os\n",
    "from bs4 import BeautifulSoup\n",
    "from playwright.async_api import async_playwright, TimeoutError as PlaywrightTimeout\n",
    "import time"
   ]
  },
  {
   "cell_type": "code",
   "execution_count": 3,
   "id": "14dd9289-a400-40e6-a888-02064bb61ff1",
   "metadata": {},
   "outputs": [
    {
     "name": "stdout",
     "output_type": "stream",
     "text": [
      "Requirement already satisfied: beautifulsoup4 in /opt/homebrew/anaconda3/lib/python3.9/site-packages (4.11.1)\n",
      "Requirement already satisfied: soupsieve>1.2 in /opt/homebrew/anaconda3/lib/python3.9/site-packages (from beautifulsoup4) (2.3.1)\n",
      "Note: you may need to restart the kernel to use updated packages.\n"
     ]
    }
   ],
   "source": [
    "%pip install beautifulsoup4"
   ]
  },
  {
   "cell_type": "code",
   "execution_count": 4,
   "id": "c68efa0f-7096-4c3c-ad20-8adcb2b53603",
   "metadata": {},
   "outputs": [
    {
     "name": "stdout",
     "output_type": "stream",
     "text": [
      "Requirement already satisfied: playwright in /opt/homebrew/anaconda3/lib/python3.9/site-packages (1.29.1)\n",
      "Requirement already satisfied: pyee==9.0.4 in /opt/homebrew/anaconda3/lib/python3.9/site-packages (from playwright) (9.0.4)\n",
      "Requirement already satisfied: greenlet==2.0.1 in /opt/homebrew/anaconda3/lib/python3.9/site-packages (from playwright) (2.0.1)\n",
      "Requirement already satisfied: typing-extensions in /opt/homebrew/anaconda3/lib/python3.9/site-packages (from pyee==9.0.4->playwright) (4.3.0)\n",
      "Note: you may need to restart the kernel to use updated packages.\n"
     ]
    }
   ],
   "source": [
    "%pip install playwright"
   ]
  },
  {
   "cell_type": "code",
   "execution_count": 5,
   "id": "8f811177-d669-4cd7-858d-0ccde2a965ad",
   "metadata": {},
   "outputs": [
    {
     "name": "stdout",
     "output_type": "stream",
     "text": [
      "pip 22.2.2 from /opt/homebrew/anaconda3/lib/python3.9/site-packages/pip (python 3.9)\n"
     ]
    }
   ],
   "source": [
    "!python3 -m pip --version"
   ]
  },
  {
   "cell_type": "code",
   "execution_count": 6,
   "id": "2e57ed29-b3b6-45f7-a69c-4e14cffd3482",
   "metadata": {},
   "outputs": [
    {
     "name": "stdout",
     "output_type": "stream",
     "text": [
      "Requirement already satisfied: ipykernel in /opt/homebrew/anaconda3/lib/python3.9/site-packages (6.15.2)\n",
      "Requirement already satisfied: jupyter-client>=6.1.12 in /opt/homebrew/anaconda3/lib/python3.9/site-packages (from ipykernel) (7.3.4)\n",
      "Requirement already satisfied: pyzmq>=17 in /opt/homebrew/anaconda3/lib/python3.9/site-packages (from ipykernel) (23.2.0)\n",
      "Requirement already satisfied: psutil in /opt/homebrew/anaconda3/lib/python3.9/site-packages (from ipykernel) (5.9.0)\n",
      "Requirement already satisfied: packaging in /opt/homebrew/anaconda3/lib/python3.9/site-packages (from ipykernel) (21.3)\n",
      "Requirement already satisfied: traitlets>=5.1.0 in /opt/homebrew/anaconda3/lib/python3.9/site-packages (from ipykernel) (5.1.1)\n",
      "Requirement already satisfied: matplotlib-inline>=0.1 in /opt/homebrew/anaconda3/lib/python3.9/site-packages (from ipykernel) (0.1.6)\n",
      "Requirement already satisfied: ipython>=7.23.1 in /opt/homebrew/anaconda3/lib/python3.9/site-packages (from ipykernel) (8.4.0)\n",
      "Requirement already satisfied: nest-asyncio in /opt/homebrew/anaconda3/lib/python3.9/site-packages (from ipykernel) (1.5.5)\n",
      "Requirement already satisfied: debugpy>=1.0 in /opt/homebrew/anaconda3/lib/python3.9/site-packages (from ipykernel) (1.5.1)\n",
      "Requirement already satisfied: tornado>=6.1 in /opt/homebrew/anaconda3/lib/python3.9/site-packages (from ipykernel) (6.1)\n",
      "Requirement already satisfied: appnope in /opt/homebrew/anaconda3/lib/python3.9/site-packages (from ipykernel) (0.1.2)\n",
      "Requirement already satisfied: decorator in /opt/homebrew/anaconda3/lib/python3.9/site-packages (from ipython>=7.23.1->ipykernel) (5.1.1)\n",
      "Requirement already satisfied: backcall in /opt/homebrew/anaconda3/lib/python3.9/site-packages (from ipython>=7.23.1->ipykernel) (0.2.0)\n",
      "Requirement already satisfied: pygments>=2.4.0 in /opt/homebrew/anaconda3/lib/python3.9/site-packages (from ipython>=7.23.1->ipykernel) (2.11.2)\n",
      "Requirement already satisfied: jedi>=0.16 in /opt/homebrew/anaconda3/lib/python3.9/site-packages (from ipython>=7.23.1->ipykernel) (0.18.1)\n",
      "Requirement already satisfied: pexpect>4.3 in /opt/homebrew/anaconda3/lib/python3.9/site-packages (from ipython>=7.23.1->ipykernel) (4.8.0)\n",
      "Requirement already satisfied: prompt-toolkit!=3.0.0,!=3.0.1,<3.1.0,>=2.0.0 in /opt/homebrew/anaconda3/lib/python3.9/site-packages (from ipython>=7.23.1->ipykernel) (3.0.20)\n",
      "Requirement already satisfied: setuptools>=18.5 in /opt/homebrew/anaconda3/lib/python3.9/site-packages (from ipython>=7.23.1->ipykernel) (63.4.1)\n",
      "Requirement already satisfied: pickleshare in /opt/homebrew/anaconda3/lib/python3.9/site-packages (from ipython>=7.23.1->ipykernel) (0.7.5)\n",
      "Requirement already satisfied: stack-data in /opt/homebrew/anaconda3/lib/python3.9/site-packages (from ipython>=7.23.1->ipykernel) (0.2.0)\n",
      "Requirement already satisfied: jupyter-core>=4.9.2 in /opt/homebrew/anaconda3/lib/python3.9/site-packages (from jupyter-client>=6.1.12->ipykernel) (4.11.1)\n",
      "Requirement already satisfied: python-dateutil>=2.8.2 in /opt/homebrew/anaconda3/lib/python3.9/site-packages (from jupyter-client>=6.1.12->ipykernel) (2.8.2)\n",
      "Requirement already satisfied: entrypoints in /opt/homebrew/anaconda3/lib/python3.9/site-packages (from jupyter-client>=6.1.12->ipykernel) (0.4)\n",
      "Requirement already satisfied: pyparsing!=3.0.5,>=2.0.2 in /opt/homebrew/anaconda3/lib/python3.9/site-packages (from packaging->ipykernel) (3.0.9)\n",
      "Requirement already satisfied: parso<0.9.0,>=0.8.0 in /opt/homebrew/anaconda3/lib/python3.9/site-packages (from jedi>=0.16->ipython>=7.23.1->ipykernel) (0.8.3)\n",
      "Requirement already satisfied: ptyprocess>=0.5 in /opt/homebrew/anaconda3/lib/python3.9/site-packages (from pexpect>4.3->ipython>=7.23.1->ipykernel) (0.7.0)\n",
      "Requirement already satisfied: wcwidth in /opt/homebrew/anaconda3/lib/python3.9/site-packages (from prompt-toolkit!=3.0.0,!=3.0.1,<3.1.0,>=2.0.0->ipython>=7.23.1->ipykernel) (0.2.5)\n",
      "Requirement already satisfied: six>=1.5 in /opt/homebrew/anaconda3/lib/python3.9/site-packages (from python-dateutil>=2.8.2->jupyter-client>=6.1.12->ipykernel) (1.16.0)\n",
      "Requirement already satisfied: pure-eval in /opt/homebrew/anaconda3/lib/python3.9/site-packages (from stack-data->ipython>=7.23.1->ipykernel) (0.2.2)\n",
      "Requirement already satisfied: asttokens in /opt/homebrew/anaconda3/lib/python3.9/site-packages (from stack-data->ipython>=7.23.1->ipykernel) (2.0.5)\n",
      "Requirement already satisfied: executing in /opt/homebrew/anaconda3/lib/python3.9/site-packages (from stack-data->ipython>=7.23.1->ipykernel) (0.8.3)\n"
     ]
    }
   ],
   "source": [
    "!python3 -m pip install ipykernel"
   ]
  },
  {
   "cell_type": "code",
   "execution_count": 7,
   "id": "1ef12ce0-d6a8-4b77-aed2-7e025e76bdd8",
   "metadata": {},
   "outputs": [
    {
     "name": "stdout",
     "output_type": "stream",
     "text": [
      "Installed kernelspec python3 in /Users/joel/Library/Jupyter/kernels/python3\n"
     ]
    }
   ],
   "source": [
    "!python3 -m ipykernel install --user"
   ]
  },
  {
   "cell_type": "code",
   "execution_count": 8,
   "id": "0d35a18e-6b4f-43e5-b27e-0f76e4918f4b",
   "metadata": {},
   "outputs": [
    {
     "name": "stdout",
     "output_type": "stream",
     "text": [
      "Python 3.9.13\n"
     ]
    }
   ],
   "source": [
    "!python3 --version"
   ]
  },
  {
   "cell_type": "code",
   "execution_count": 9,
   "id": "de5f84e3-6438-4b89-a4e7-e4399983adf4",
   "metadata": {},
   "outputs": [],
   "source": [
    "!playwright install"
   ]
  },
  {
   "cell_type": "code",
   "execution_count": 10,
   "id": "cfc8a377-ffdf-4c08-beb5-77621332cdca",
   "metadata": {},
   "outputs": [
    {
     "name": "stdout",
     "output_type": "stream",
     "text": [
      "Python 3.9.13\n",
      "Python 3.9.13\n"
     ]
    }
   ],
   "source": [
    "!python --version\n",
    "!python3 --version"
   ]
  },
  {
   "cell_type": "code",
   "execution_count": 11,
   "id": "10b735e4-0ece-486b-8de7-1ec78f71ec36",
   "metadata": {},
   "outputs": [],
   "source": [
    "SEASONS = list(range(2018, 2024))"
   ]
  },
  {
   "cell_type": "code",
   "execution_count": 12,
   "id": "1dee3c45-97e9-436d-9e3e-31381ed13db4",
   "metadata": {},
   "outputs": [
    {
     "data": {
      "text/plain": [
       "[2018, 2019, 2020, 2021, 2022, 2023]"
      ]
     },
     "execution_count": 12,
     "metadata": {},
     "output_type": "execute_result"
    }
   ],
   "source": [
    "SEASONS"
   ]
  },
  {
   "cell_type": "code",
   "execution_count": 13,
   "id": "0b7a5b73-bfd2-411b-9e62-b085e004ad5b",
   "metadata": {},
   "outputs": [],
   "source": [
    "DATA_DIR = \"data\" # main directory folder that we'll store all data in it\n",
    "STANDINGS_DIR = os.path.join(DATA_DIR, \"standings\") # \"monthly\" standing pages are stored together\n",
    "SCORES_DIR = os.path.join(DATA_DIR, \"scores\") # \"monthly\" score pages are stored together"
   ]
  },
  {
   "cell_type": "code",
   "execution_count": 14,
   "id": "e9e5b779-374d-4310-9bf6-07f7670fdbf6",
   "metadata": {},
   "outputs": [],
   "source": [
    "#url"
   ]
  },
  {
   "cell_type": "code",
   "execution_count": 15,
   "id": "dea29d60-b23e-4ff8-aad4-7b8948605985",
   "metadata": {},
   "outputs": [],
   "source": [
    "# Use Playwright Asynchronously to bring HTML <tag> div which contains the valuable column data target"
   ]
  },
  {
   "cell_type": "code",
   "execution_count": 16,
   "id": "4382432f-895b-4009-81c6-8e5efbf31a85",
   "metadata": {},
   "outputs": [],
   "source": [
    "# Opens a Web browser to communicate within the program to render data from HTML file in the source \"Basketball Reference\""
   ]
  },
  {
   "cell_type": "code",
   "execution_count": 17,
   "id": "f5f35b3a-ca81-49fc-be06-8b41a182148a",
   "metadata": {},
   "outputs": [],
   "source": [
    "#soup = BeautifulSoup(html)\n",
    "#links = soup.find_all(\"a\")\n",
    "#href = [l[\"href\"] for l in links]\n",
    "#standings_pages = [f\"https://basketball-reference.com{l}\" for l in href]"
   ]
  },
  {
   "cell_type": "code",
   "execution_count": 18,
   "id": "757decec-30a0-4e35-9fd1-8b5d65f1bc2a",
   "metadata": {},
   "outputs": [],
   "source": [
    "#season = 2019\n",
    "# months = ['October', 'November', 'December', 'January', 'February', 'March', 'April', 'May', 'June']\n",
    "# match months:\n",
    "    # case 'October':\n",
    "        # month = months[0]\n",
    "    # case 'November':\n",
    "        # month = months[1]\n",
    "    # case 'December':\n",
    "        # month = months[2]\n",
    "    # case 'January':\n",
    "        # month = months[3]\n",
    "    # case 'February':\n",
    "        # month = months[4]\n",
    "    # case 'March':\n",
    "        # month = months[5]\n",
    "    # case 'April':\n",
    "        # month = months[6]\n",
    "    # case 'May':\n",
    "        # month = months[7]\n",
    "    # case 'June':\n",
    "        # month = months[8]\n",
    "    # case default:\n",
    "        # print(\"Month not found\")\n",
    "\n",
    "#url = f\"https://www.basketball-reference.com/leagues/NBA_{season}_games.html\""
   ]
  },
  {
   "cell_type": "code",
   "execution_count": 19,
   "id": "e950be83-4ac0-495e-9e73-0dfdacc1881a",
   "metadata": {},
   "outputs": [],
   "source": [
    "#html = await get_html(url, \"#content .filter\")"
   ]
  },
  {
   "cell_type": "code",
   "execution_count": 20,
   "id": "d157414c-0a68-45cb-9bfd-d13e50710cef",
   "metadata": {},
   "outputs": [],
   "source": [
    "#html"
   ]
  },
  {
   "cell_type": "code",
   "execution_count": 21,
   "id": "1c8b073c-43e1-43de-862c-3c823c7b0fcc",
   "metadata": {},
   "outputs": [],
   "source": [
    "#standings_pages"
   ]
  },
  {
   "cell_type": "code",
   "execution_count": 22,
   "id": "37439de9-c3bf-4e56-a5a4-2a4677c0b361",
   "metadata": {},
   "outputs": [],
   "source": [
    "async def get_html(url, selector, sleep=5, retries=3):\n",
    "    html = None\n",
    "    for i in range(1, retries+1):\n",
    "        time.sleep(sleep * i)\n",
    "        \n",
    "        try:\n",
    "            async with async_playwright() as p: # creates our instance variable 'p' to use from playwright async api\n",
    "                browser = await p.chromium.launch() # initializes and launches a chrome browser using playwright async api\n",
    "                page = await browser.new_page() # creating a new tab in the browser \n",
    "                await page.goto(url) # sending given url to the new tab page\n",
    "                print(await page.title()) # print the page title to know the process of the scraping\n",
    "                html = await page.inner_html(selector) # only use the selector tag found in the inner html file\n",
    "                \n",
    "        except PlaywrightTimeout: # call the PlaywrightTimeout from Timeout imported by playwright library api\n",
    "            print(f\"Timeout error on {url}\") #Not successful after 5 incremented seconds\n",
    "            continue # goes again to the top of the Try conditional loop to continue executing\n",
    "        else:\n",
    "            break #when successful it breaks out of the conditional try loop\n",
    "            # after trying 5, 10, 15 seconds it will return the inner_html selector tag from HTML\n",
    "    return html # returns html provided from source webpage from chrome browser"
   ]
  },
  {
   "cell_type": "code",
   "execution_count": 23,
   "id": "bc54a1a7-8c85-427d-969d-2240700e3a17",
   "metadata": {},
   "outputs": [],
   "source": [
    "async def scrape_season(season):\n",
    "    url = f\"https://www.basketball-reference.com/leagues/NBA_{season}_games.html\"\n",
    "    html = await get_html(url, \"#content .filter\")\n",
    "    \n",
    "    soup = BeautifulSoup(html)\n",
    "    links = soup.find_all(\"a\") # find all <a/> tags and call them links \n",
    "    href = [l[\"href\"] for l in links] # for every link in links we find the list of href individually\n",
    "    standings_pages = [f\"https://basketball-reference.com{l}\" for l in href] # for every href we find each path to complete the url links\n",
    "    \n",
    "    for url in standings_pages:\n",
    "        save_path = os.path.join(STANDINGS_DIR, url.split(\"/\")[-1]) # saves the path only after the last \"/\" route by using [-1]\n",
    "        if os.path.exists(save_path): # to avoid repeating the url path\n",
    "            continue # if true it does exist then, the function will continue to execute the next line of code\n",
    "            \n",
    "        html = await get_html(url, \"#all_schedule\") # gets all the table from the div <tag> from source html and provides the individual nba month schedule games\n",
    "        with open(save_path, \"w+\") as f: # read/write the html into a file as 'f'\n",
    "            f.write(html) # writes the html into the file 'f'"
   ]
  },
  {
   "cell_type": "code",
   "execution_count": 25,
   "id": "f578f331-5d95-4a60-8996-c9541a0d3659",
   "metadata": {},
   "outputs": [
    {
     "name": "stdout",
     "output_type": "stream",
     "text": [
      "Timeout error on https://www.basketball-reference.com/leagues/NBA_2018_games.html\n",
      "2017-18 NBA Schedule | Basketball-Reference.com\n",
      "Timeout error on https://www.basketball-reference.com/leagues/NBA_2019_games.html\n",
      "Timeout error on https://www.basketball-reference.com/leagues/NBA_2019_games.html\n",
      "2018-19 NBA Schedule | Basketball-Reference.com\n",
      "2019-20 NBA Schedule | Basketball-Reference.com\n",
      "2020-21 NBA Schedule | Basketball-Reference.com\n",
      "Timeout error on https://www.basketball-reference.com/leagues/NBA_2022_games.html\n",
      "2021-22 NBA Schedule | Basketball-Reference.com\n",
      "2022-23 NBA Schedule | Basketball-Reference.com\n"
     ]
    }
   ],
   "source": [
    "for season in SEASONS: # create loop to bring each season\n",
    "    await scrape_season(season) # its an async function and uses a promise by using await for request/response of each given season while it finishes scraping all data from each data month table found from source "
   ]
  }
 ],
 "metadata": {
  "kernelspec": {
   "display_name": "Python 3 (ipykernel)",
   "language": "python",
   "name": "python3"
  },
  "language_info": {
   "codemirror_mode": {
    "name": "ipython",
    "version": 3
   },
   "file_extension": ".py",
   "mimetype": "text/x-python",
   "name": "python",
   "nbconvert_exporter": "python",
   "pygments_lexer": "ipython3",
   "version": "3.9.13"
  }
 },
 "nbformat": 4,
 "nbformat_minor": 5
}
